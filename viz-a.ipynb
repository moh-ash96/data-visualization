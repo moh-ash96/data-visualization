{
 "cells": [
  {
   "cell_type": "markdown",
   "id": "3c317e7a-d96b-41fc-94d8-6cd8eb06a4b1",
   "metadata": {},
   "source": [
    "# Forex Data Since 2011"
   ]
  },
  {
   "cell_type": "code",
   "execution_count": 11,
   "id": "f527d7d8-3157-4676-877b-b098ef396ca8",
   "metadata": {},
   "outputs": [],
   "source": [
    "import numpy as np\n",
    "import pandas as pd\n",
    "import matplotlib.pyplot as plt\n",
    "import seaborn as sns"
   ]
  },
  {
   "cell_type": "code",
   "execution_count": 2,
   "id": "6cab09d2-b96e-4d23-8b90-064c3d0fc8a0",
   "metadata": {},
   "outputs": [],
   "source": [
    "df = pd.read_csv('./forex_usd_data.csv')"
   ]
  },
  {
   "cell_type": "code",
   "execution_count": 13,
   "id": "83d53fe2-8ef4-483c-a6fc-099a6503072e",
   "metadata": {},
   "outputs": [
    {
     "name": "stdout",
     "output_type": "stream",
     "text": [
      "<class 'pandas.core.frame.DataFrame'>\n",
      "RangeIndex: 3798 entries, 0 to 3797\n",
      "Data columns (total 54 columns):\n",
      " #   Column                 Non-Null Count  Dtype  \n",
      "---  ------                 --------------  -----  \n",
      " 0   date(y-m-d)            3798 non-null   object \n",
      " 1   Argentine Peso         3798 non-null   float64\n",
      " 2   Australian Dollar      3798 non-null   float64\n",
      " 3   Bahraini Dinar         3798 non-null   float64\n",
      " 4   Botswana Pula          3798 non-null   float64\n",
      " 5   Brazilian Real         3798 non-null   float64\n",
      " 6   Bruneian Dollar        3798 non-null   float64\n",
      " 7   Bulgarian Lev          3798 non-null   float64\n",
      " 8   Canadian Dollar        3798 non-null   float64\n",
      " 9   Chilean Peso           3798 non-null   float64\n",
      " 10  Chinese Yuan Renminbi  3798 non-null   float64\n",
      " 11  Colombian Peso         3798 non-null   float64\n",
      " 12  Croatian Kuna          3798 non-null   float64\n",
      " 13  Czech Koruna           3798 non-null   float64\n",
      " 14  Danish Krone           3798 non-null   float64\n",
      " 15  Euro                   3798 non-null   float64\n",
      " 16  Hong Kong Dollar       3798 non-null   float64\n",
      " 17  Hungarian Forint       3798 non-null   float64\n",
      " 18  Icelandic Krona        3798 non-null   float64\n",
      " 19  Indian Rupee           3798 non-null   float64\n",
      " 20  Indonesian Rupiah      3798 non-null   float64\n",
      " 21  Iranian Rial           3798 non-null   float64\n",
      " 22  Israeli Shekel         3798 non-null   float64\n",
      " 23  Japanese Yen           3798 non-null   float64\n",
      " 24  Kazakhstani Tenge      3798 non-null   float64\n",
      " 25  South Korean Won       3798 non-null   float64\n",
      " 26  Kuwaiti Dinar          3798 non-null   float64\n",
      " 27  Libyan Dinar           3798 non-null   float64\n",
      " 28  Malaysian Ringgit      3798 non-null   float64\n",
      " 29  Mauritian Rupee        3798 non-null   float64\n",
      " 30  Mexican Peso           3798 non-null   float64\n",
      " 31  Nepalese Rupee         3798 non-null   float64\n",
      " 32  New Zealand Dollar     3798 non-null   float64\n",
      " 33  Norwegian Krone        3798 non-null   float64\n",
      " 34  Omani Rial             3798 non-null   float64\n",
      " 35  Pakistani Rupee        3798 non-null   float64\n",
      " 36  Philippine Peso        3798 non-null   float64\n",
      " 37  Polish Zloty           3798 non-null   float64\n",
      " 38  Qatari Riyal           3798 non-null   float64\n",
      " 39  Romanian New Leu       3798 non-null   float64\n",
      " 40  Russian Ruble          3798 non-null   float64\n",
      " 41  Saudi Arabian Riyal    3798 non-null   float64\n",
      " 42  Singapore Dollar       3798 non-null   float64\n",
      " 43  South African Rand     3798 non-null   float64\n",
      " 44  Sri Lankan Rupee       3798 non-null   float64\n",
      " 45  Swedish Krona          3798 non-null   float64\n",
      " 46  Swiss Franc            3798 non-null   float64\n",
      " 47  Taiwan New Dollar      3798 non-null   float64\n",
      " 48  Thai Baht              3798 non-null   float64\n",
      " 49  Trinidadian Dollar     3798 non-null   float64\n",
      " 50  Turkish Lira           3798 non-null   float64\n",
      " 51  Emirati Dirham         3798 non-null   float64\n",
      " 52  British Pound          3798 non-null   float64\n",
      " 53  Venezuelan Bolivar     3796 non-null   float64\n",
      "dtypes: float64(53), object(1)\n",
      "memory usage: 1.6+ MB\n"
     ]
    }
   ],
   "source": [
    "\n",
    "df.head()\n",
    "df.tail()\n",
    "df.info()"
   ]
  },
  {
   "cell_type": "code",
   "execution_count": null,
   "id": "2796c7f9-f7bb-4398-99a6-79b43181f9ce",
   "metadata": {},
   "outputs": [],
   "source": []
  },
  {
   "cell_type": "code",
   "execution_count": 41,
   "id": "5142ed6e-ebe3-42f9-8401-fae1e99e0f30",
   "metadata": {},
   "outputs": [],
   "source": [
    "# X1 = df['British Pound'].values\n",
    "# x2 = df['Russian Ruble'].values\n",
    "# x3 = df['Euro'].values\n",
    "frame = pd.DataFrame(df.groupby(['date(y-m-d)'])[['British Pound','Euro']].mean().sort_index())"
   ]
  },
  {
   "cell_type": "code",
   "execution_count": 20,
   "id": "ed2bacdd-6c6f-4245-a977-bcf994743eef",
   "metadata": {},
   "outputs": [
    {
     "data": {
      "text/plain": [
       "array([0.746798, 0.74685 , 0.74791 , ..., 0.821021, 0.819073, 0.817366])"
      ]
     },
     "execution_count": 20,
     "metadata": {},
     "output_type": "execute_result"
    }
   ],
   "source": [
    "y = df['date(y-m-d)'].values\n",
    "y"
   ]
  },
  {
   "cell_type": "code",
   "execution_count": 37,
   "id": "68c10c49-6cc1-4afb-ae64-0fad1c264843",
   "metadata": {},
   "outputs": [],
   "source": [
    "sns.set()"
   ]
  },
  {
   "cell_type": "code",
   "execution_count": 42,
   "id": "1fb974e0-ff82-4750-80be-ec2a81ddbcf6",
   "metadata": {},
   "outputs": [
    {
     "data": {
      "text/plain": [
       "<AxesSubplot:xlabel='date(y-m-d)'>"
      ]
     },
     "execution_count": 42,
     "metadata": {},
     "output_type": "execute_result"
    },
    {
     "data": {
      "image/png": "[encoded data removed]",
      "text/plain": [
       "<Figure size 432x288 with 1 Axes>"
      ]
     },
     "metadata": {},
     "output_type": "display_data"
    }
   ],
   "source": [
    "# plt.bar(y, x1,x2,x3)\n",
    "frame.plot.line()"
   ]
  },
  {
   "cell_type": "code",
   "execution_count": null,
   "id": "c5de216a-b12c-4a38-b744-732990117edc",
   "metadata": {},
   "outputs": [],
   "source": []
  }
 ],
 "metadata": {
  "kernelspec": {
   "display_name": "Python 3",
   "language": "python",
   "name": "python3"
  },
  "language_info": {
   "codemirror_mode": {
    "name": "ipython",
    "version": 3
   },
   "file_extension": ".py",
   "mimetype": "text/x-python",
   "name": "python",
   "nbconvert_exporter": "python",
   "pygments_lexer": "ipython3",
   "version": "3.9.4"
  }
 },
 "nbformat": 4,
 "nbformat_minor": 5
}
